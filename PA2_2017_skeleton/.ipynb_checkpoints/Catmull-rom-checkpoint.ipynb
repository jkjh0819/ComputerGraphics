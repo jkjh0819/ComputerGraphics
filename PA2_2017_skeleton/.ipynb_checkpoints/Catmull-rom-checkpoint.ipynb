{
 "cells": [
  {
   "cell_type": "code",
   "execution_count": 12,
   "metadata": {},
   "outputs": [
    {
     "data": {
      "image/png": "[encoded data removed]",
      "text/plain": [
       "<matplotlib.figure.Figure at 0x107d714e0>"
      ]
     },
     "metadata": {},
     "output_type": "display_data"
    }
   ],
   "source": [
    "import numpy\n",
    "import pylab as plt\n",
    "\n",
    "def CatmullRomSpline(P0, P1, P2, P3, nPoints=100):\n",
    "  \"\"\"\n",
    "  P0, P1, P2, and P3 should be (x,y) point pairs that define the Catmull-Rom spline.\n",
    "  nPoints is the number of points to include in this curve segment.\n",
    "  \"\"\"\n",
    "  # Convert the points to numpy so that we can do array multiplication\n",
    "  P0, P1, P2, P3 = map(numpy.array, [P0, P1, P2, P3])\n",
    "\n",
    "  # Calculate t0 to t4\n",
    "  alpha = 0.5\n",
    "  def tj(ti, Pi, Pj):\n",
    "    xi, yi = Pi\n",
    "    xj, yj = Pj\n",
    "    return ( ( (xj-xi)**2 + (yj-yi)**2 )**0.5 )**alpha + ti\n",
    "\n",
    "  t0 = 0\n",
    "  t1 = tj(t0, P0, P1)\n",
    "  t2 = tj(t1, P1, P2)\n",
    "  t3 = tj(t2, P2, P3)\n",
    "\n",
    "  # Only calculate points between P1 and P2\n",
    "  t = numpy.linspace(t1,t2,nPoints)\n",
    "\n",
    "  # Reshape so that we can multiply by the points P0 to P3\n",
    "  # and get a point for each value of t.\n",
    "  t = t.reshape(len(t),1)\n",
    "\n",
    "  A1 = (t1-t)/(t1-t0)*P0 + (t-t0)/(t1-t0)*P1\n",
    "  A2 = (t2-t)/(t2-t1)*P1 + (t-t1)/(t2-t1)*P2\n",
    "  A3 = (t3-t)/(t3-t2)*P2 + (t-t2)/(t3-t2)*P3\n",
    "\n",
    "  B1 = (t2-t)/(t2-t0)*A1 + (t-t0)/(t2-t0)*A2\n",
    "  B2 = (t3-t)/(t3-t1)*A2 + (t-t1)/(t3-t1)*A3\n",
    "\n",
    "  C  = (t2-t)/(t2-t1)*B1 + (t-t1)/(t2-t1)*B2\n",
    "  return C\n",
    "\n",
    "def CatmullRomChain(P):\n",
    "  \"\"\"\n",
    "  Calculate Catmull Rom for a chain of points and return the combined curve.\n",
    "  \"\"\"\n",
    "  sz = len(P)\n",
    "\n",
    "  # The curve C will contain an array of (x,y) points.\n",
    "  C = []\n",
    "  for i in range(sz-3):\n",
    "    c = CatmullRomSpline(P[i], P[i+1], P[i+2], P[i+3])\n",
    "    C.extend(c)\n",
    "\n",
    "  a = CatmullRomSpline(P[3],P[4],P[5],P[0])\n",
    "  b = CatmullRomSpline(P[4],P[5],P[0],P[1])\n",
    "  d = CatmullRomSpline(P[5],P[0],P[1],P[2])\n",
    "  C.extend(a)\n",
    "  C.extend(b)\n",
    "  C.extend(d)\n",
    "\n",
    "  return C\n",
    "\n",
    "# Define a set of points for curve to go through\n",
    "Points = [[0,1.5],[2,2],[3,1],[4,0.5],[5,1],[6,2]]\n",
    "\n",
    "# Calculate the Catmull-Rom splines through the points\n",
    "c = CatmullRomChain(Points)\n",
    "\n",
    "# Convert the Catmull-Rom curve points into x and y arrays and plot\n",
    "x,y = zip(*c)\n",
    "plt.plot(x,y)\n",
    "\n",
    "# Plot the control points\n",
    "px, py = zip(*Points)\n",
    "plt.plot(px,py,'or')\n",
    "\n",
    "plt.show()"
   ]
  },
  {
   "cell_type": "code",
   "execution_count": null,
   "metadata": {
    "collapsed": true
   },
   "outputs": [],
   "source": []
  }
 ],
 "metadata": {
  "kernelspec": {
   "display_name": "Python 3",
   "language": "python",
   "name": "python3"
  },
  "language_info": {
   "codemirror_mode": {
    "name": "ipython",
    "version": 3
   },
   "file_extension": ".py",
   "mimetype": "text/x-python",
   "name": "python",
   "nbconvert_exporter": "python",
   "pygments_lexer": "ipython3",
   "version": "3.6.0"
  }
 },
 "nbformat": 4,
 "nbformat_minor": 2
}
